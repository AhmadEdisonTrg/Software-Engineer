{
  "nbformat": 4,
  "nbformat_minor": 0,
  "metadata": {
    "colab": {
      "name": "latihan.ipynb",
      "provenance": [],
      "collapsed_sections": []
    },
    "kernelspec": {
      "name": "python3",
      "display_name": "Python 3"
    },
    "language_info": {
      "name": "python"
    }
  },
  "cells": [
    {
      "cell_type": "code",
      "metadata": {
        "id": "qr9f9B7UQwpG"
      },
      "source": [
        "# Contoh contoh variabel\n",
        "\n",
        "a = 10 # integer\n",
        "b = 3.14 # float\n",
        "c = \"edison\" # string\n",
        "d = \"Tarigan\" # string\n",
        "e = True # boolean\n",
        "f = False # boolean\n",
        "g = [] # list\n",
        "h = [1, 2, 3] # list\n",
        "i = {} # dictionary\n",
        "j = () # tuple\n",
        "\n",
        "# integer, float, string, boolean, list, dictionary, tuple\n",
        "\n",
        "\n"
      ],
      "execution_count": 2,
      "outputs": []
    },
    {
      "cell_type": "code",
      "metadata": {
        "colab": {
          "base_uri": "https://localhost:8080/"
        },
        "id": "wcDQWlNdY5Xg",
        "outputId": "5f51b6be-3bd2-4a3e-87bd-d1746e1d18d7"
      },
      "source": [
        "print(\"hai\")"
      ],
      "execution_count": 22,
      "outputs": [
        {
          "output_type": "stream",
          "name": "stdout",
          "text": [
            "hai\n"
          ]
        }
      ]
    },
    {
      "cell_type": "code",
      "metadata": {
        "colab": {
          "base_uri": "https://localhost:8080/"
        },
        "id": "-MhRbMI9TQ5b",
        "outputId": "c511f4c3-bfe2-4ba4-d8af-97e82203850e"
      },
      "source": [
        "# print => untuk debugging \n",
        "\n",
        "print(a)"
      ],
      "execution_count": 3,
      "outputs": [
        {
          "output_type": "stream",
          "name": "stdout",
          "text": [
            "10\n"
          ]
        }
      ]
    },
    {
      "cell_type": "code",
      "metadata": {
        "colab": {
          "base_uri": "https://localhost:8080/"
        },
        "id": "dPsdDFxETVEt",
        "outputId": "c4f36fd7-7f3a-48c3-aeeb-41b9f3d4eac9"
      },
      "source": [
        "print(2+4*3)"
      ],
      "execution_count": 8,
      "outputs": [
        {
          "output_type": "stream",
          "name": "stdout",
          "text": [
            "14\n"
          ]
        }
      ]
    },
    {
      "cell_type": "code",
      "metadata": {
        "id": "4_vQJXGwWzRn"
      },
      "source": [
        "nama = input(\"masukkan nama\")"
      ],
      "execution_count": null,
      "outputs": []
    },
    {
      "cell_type": "code",
      "metadata": {
        "id": "OdkgAszOW-UB"
      },
      "source": [
        "# concatination\n",
        "\n",
        "nama = \"edison\"\n",
        "umur = 20\n",
        "alamat = \"Medan\""
      ],
      "execution_count": 13,
      "outputs": []
    },
    {
      "cell_type": "code",
      "metadata": {
        "colab": {
          "base_uri": "https://localhost:8080/"
        },
        "id": "ZhJV7KfjXIuF",
        "outputId": "392665d5-d2b7-4bd6-ccc2-44781746e982"
      },
      "source": [
        "print(\"hai namaku adalah \" + nama)"
      ],
      "execution_count": 14,
      "outputs": [
        {
          "output_type": "stream",
          "name": "stdout",
          "text": [
            "hai namaku adalah edison\n"
          ]
        }
      ]
    },
    {
      "cell_type": "code",
      "metadata": {
        "colab": {
          "base_uri": "https://localhost:8080/"
        },
        "id": "9cEEXg9aXPvO",
        "outputId": "0e9e55d6-85c1-4b16-ebc4-30077a613a6c"
      },
      "source": [
        "print(\"hai namaku adalah {}, umurku {}, aku tinggal di {}\".format(nama, umur, alamat))"
      ],
      "execution_count": 15,
      "outputs": [
        {
          "output_type": "stream",
          "name": "stdout",
          "text": [
            "hai namaku adalah edison, umurku 20, aku tinggal di Medan\n"
          ]
        }
      ]
    },
    {
      "cell_type": "code",
      "metadata": {
        "colab": {
          "base_uri": "https://localhost:8080/"
        },
        "id": "ZWPrsJWnXUii",
        "outputId": "44ebcec6-74ec-4562-e87d-f474dc1a324c"
      },
      "source": [
        "print(\"Hai namaku adalah\", nama ,\", aku tinggal di\", alamat ,\", umurku\", umur)"
      ],
      "execution_count": 16,
      "outputs": [
        {
          "output_type": "stream",
          "name": "stdout",
          "text": [
            "Hai namaku adalah edison , aku tinggal di Medan , umurku 20\n"
          ]
        }
      ]
    },
    {
      "cell_type": "code",
      "metadata": {
        "colab": {
          "base_uri": "https://localhost:8080/"
        },
        "id": "epyeIDlyXa4d",
        "outputId": "11a9710d-5226-4d63-cf24-3bf30110aea7"
      },
      "source": [
        "import math\n",
        "\n",
        "a = 10\n",
        "b = 10\n",
        "\n",
        "# if else\n",
        "\n",
        "## conditional statement\n",
        "a == b \n",
        "a != b\n",
        "a <= b\n",
        "a >= b\n",
        "a < b\n",
        "a > b\n",
        "True and True\n",
        "True or True\n",
        "\n",
        "## operator \n",
        "a + b\n",
        "a - b\n",
        "a * b\n",
        "a / b\n",
        "a // b\n",
        "a ** b\n",
        "a % b\n",
        "a ** (1/2)\n",
        "math.sqrt(a)\n",
        "math.sin(a)\n",
        "math.cos(a)\n",
        "math.tan(a)\n",
        "math.log(a)"
      ],
      "execution_count": 17,
      "outputs": [
        {
          "output_type": "execute_result",
          "data": {
            "text/plain": [
              "2.302585092994046"
            ]
          },
          "metadata": {},
          "execution_count": 17
        }
      ]
    },
    {
      "cell_type": "code",
      "metadata": {
        "colab": {
          "base_uri": "https://localhost:8080/"
        },
        "id": "w88B7p9HXchl",
        "outputId": "a68bdc9e-7e13-424e-b64d-ebbae0fb1405"
      },
      "source": [
        "# if else \n",
        "\n",
        "if a == 10:\n",
        "  print(\"a sama dengan 10\")\n",
        "elif a > 10:\n",
        "  print(\"a lebih besar dari 10\")\n",
        "else:\n",
        "  print(\"a kurang dari 10\")"
      ],
      "execution_count": 19,
      "outputs": [
        {
          "output_type": "stream",
          "name": "stdout",
          "text": [
            "a sama dengan 10\n"
          ]
        }
      ]
    }
  ]
}