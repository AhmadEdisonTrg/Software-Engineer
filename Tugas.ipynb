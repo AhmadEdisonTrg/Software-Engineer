{
  "nbformat": 4,
  "nbformat_minor": 0,
  "metadata": {
    "colab": {
      "name": "Tugas.ipynb",
      "provenance": []
    },
    "kernelspec": {
      "name": "python3",
      "display_name": "Python 3"
    },
    "language_info": {
      "name": "python"
    }
  },
  "cells": [
    {
      "cell_type": "code",
      "metadata": {
        "id": "of8szBdsZHbR"
      },
      "source": [
        "Ahmad Edison Tarigan  —> a, b -> a: List, b: Dictionary\n"
      ],
      "execution_count": null,
      "outputs": []
    },
    {
      "cell_type": "code",
      "metadata": {
        "colab": {
          "base_uri": "https://localhost:8080/"
        },
        "id": "1XcrxTBSZRYx",
        "outputId": "ac34e83b-ec13-42b2-d2ec-f9d9336bc0a5"
      },
      "source": [
        "print(\"welcome to danau toba\")"
      ],
      "execution_count": 1,
      "outputs": [
        {
          "output_type": "stream",
          "name": "stdout",
          "text": [
            "welcome to danau toba\n"
          ]
        }
      ]
    },
    {
      "cell_type": "code",
      "metadata": {
        "colab": {
          "base_uri": "https://localhost:8080/"
        },
        "id": "HB233vtXZnMt",
        "outputId": "54dbc700-383a-48f4-98e3-5d42fd9c9fde"
      },
      "source": [
        "print(\"Welcome to Aceh\")"
      ],
      "execution_count": 2,
      "outputs": [
        {
          "output_type": "stream",
          "name": "stdout",
          "text": [
            "Welcome to Aceh\n"
          ]
        }
      ]
    },
    {
      "cell_type": "code",
      "metadata": {
        "id": "xgBKKuu2dBUG"
      },
      "source": [
        "kelas = input(\" masukan kelas saya\")"
      ],
      "execution_count": null,
      "outputs": []
    },
    {
      "cell_type": "code",
      "metadata": {
        "id": "Is4dlmzBbj7q"
      },
      "source": [
        "# concatination\n",
        "kelas = 'IT 3'\n",
        "batch= '2019'"
      ],
      "execution_count": 33,
      "outputs": []
    },
    {
      "cell_type": "code",
      "metadata": {
        "colab": {
          "base_uri": "https://localhost:8080/"
        },
        "id": "gWZrtQ_Jdmnx",
        "outputId": "f448d1bf-ce33-4922-fc49-f64dda1261e8"
      },
      "source": [
        "print(\" masukan kelas saya \" + kelas)"
      ],
      "execution_count": 25,
      "outputs": [
        {
          "output_type": "stream",
          "name": "stdout",
          "text": [
            " masukan kelas saya IT 3\n"
          ]
        }
      ]
    },
    {
      "cell_type": "code",
      "metadata": {
        "colab": {
          "base_uri": "https://localhost:8080/"
        },
        "id": "r-9OX8oMe7cN",
        "outputId": "84f2dd2c-93dc-4345-8fd6-60a4a607c468"
      },
      "source": [
        "print(\" masukan kelas saya \" + kelas)"
      ],
      "execution_count": 29,
      "outputs": [
        {
          "output_type": "stream",
          "name": "stdout",
          "text": [
            " masukan kelas saya IT 3\n"
          ]
        }
      ]
    },
    {
      "cell_type": "code",
      "metadata": {
        "colab": {
          "base_uri": "https://localhost:8080/"
        },
        "id": "g6Ru7fdbgLuC",
        "outputId": "1a9cfa5e-b5eb-418f-ca34-1b35b5e2caa1"
      },
      "source": [
        "print(\" masukan kelas saya {}, batch {}\".format(kelas , batch)) "
      ],
      "execution_count": 34,
      "outputs": [
        {
          "output_type": "stream",
          "name": "stdout",
          "text": [
            " masukan kelas saya IT 3, batch 2019\n"
          ]
        }
      ]
    },
    {
      "cell_type": "code",
      "metadata": {
        "id": "ySC7y1jUgi07"
      },
      "source": [
        "baju =\t{\n",
        "  \"brand\": \"erigo\",\n",
        "  \"model\": \"jeket\",\n",
        "  \"year\": 1964\n",
        "}"
      ],
      "execution_count": 41,
      "outputs": []
    },
    {
      "cell_type": "code",
      "metadata": {
        "colab": {
          "base_uri": "https://localhost:8080/"
        },
        "id": "IHjY-Uw3i1Mo",
        "outputId": "0e153ec8-db5d-426b-d7b0-66ffecce2769"
      },
      "source": [
        "print(baju)"
      ],
      "execution_count": 42,
      "outputs": [
        {
          "output_type": "stream",
          "name": "stdout",
          "text": [
            "{'brand': 'erigo', 'model': 'jeket', 'year': 1964}\n"
          ]
        }
      ]
    },
    {
      "cell_type": "code",
      "metadata": {
        "id": "dRl2c65Xi_4M"
      },
      "source": [
        "TDD = {\n",
        "  \"colors\": [\"red\", \"white\", \"blue\"]\n",
        "}"
      ],
      "execution_count": 47,
      "outputs": []
    },
    {
      "cell_type": "code",
      "metadata": {
        "colab": {
          "base_uri": "https://localhost:8080/"
        },
        "id": "mWMOkKC1louH",
        "outputId": "82616137-ce0b-4f90-a0be-d45a82a723fc"
      },
      "source": [
        "print(TDD)"
      ],
      "execution_count": 48,
      "outputs": [
        {
          "output_type": "stream",
          "name": "stdout",
          "text": [
            "{'colors': ['red', 'white', 'blue']}\n"
          ]
        }
      ]
    }
  ]
}