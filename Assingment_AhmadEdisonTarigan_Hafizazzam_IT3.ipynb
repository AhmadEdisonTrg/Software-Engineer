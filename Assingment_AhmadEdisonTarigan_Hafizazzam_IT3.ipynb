{
  "nbformat": 4,
  "nbformat_minor": 0,
  "metadata": {
    "colab": {
      "name": "Assingment_AhmadEdisonTarigan_Hafizazzam_IT3.ipynb",
      "provenance": []
    },
    "kernelspec": {
      "name": "python3",
      "display_name": "Python 3"
    },
    "language_info": {
      "name": "python"
    }
  },
  "cells": [
    {
      "cell_type": "code",
      "metadata": {
        "id": "syet8N2qzIv6"
      },
      "source": [
        "print('Enter correct password')\n",
        "count=0\n",
        "\n",
        "while count<10:\n",
        "    password=input('Enter password: ')\n",
        "    if password =='2222':\n",
        "        print(\"Your Password is Correct\")\n",
        "        break\n",
        "    elif count==9 :\n",
        "        print(\"You tried too many times, You're Blocked\")\n",
        "        break\n",
        "    else:\n",
        "        count+=1\n",
        "        print(\"Incorrect, Please Try Again\")"
      ],
      "execution_count": null,
      "outputs": []
    }
  ]
}